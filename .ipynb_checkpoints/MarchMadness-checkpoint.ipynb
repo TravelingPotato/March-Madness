{
 "cells": [
  {
   "cell_type": "code",
   "execution_count": 257,
   "metadata": {},
   "outputs": [],
   "source": [
    "import json\n",
    "import pandas as pd\n",
    "import numpy as np\n",
    "\n",
    "file = 'stats.json'"
   ]
  },
  {
   "cell_type": "code",
   "execution_count": 258,
   "metadata": {},
   "outputs": [],
   "source": [
    "with open(file) as f:\n",
    "    data = json.load(f)"
   ]
  },
  {
   "cell_type": "code",
   "execution_count": 260,
   "metadata": {},
   "outputs": [],
   "source": [
    "sample = pd.DataFrame(data['North Carolina Central']['Team'], index = [0])"
   ]
  },
  {
   "cell_type": "code",
   "execution_count": 261,
   "metadata": {},
   "outputs": [],
   "source": [
    "cols = (sample.keys())"
   ]
  },
  {
   "cell_type": "code",
   "execution_count": 262,
   "metadata": {},
   "outputs": [],
   "source": [
    "teams = list(data.keys())"
   ]
  },
  {
   "cell_type": "code",
   "execution_count": 263,
   "metadata": {},
   "outputs": [],
   "source": [
    "df_team = pd.DataFrame(columns=cols)\n",
    "index = 0\n",
    "\n",
    "for i in teams:\n",
    "    row = data.get(i)\n",
    "    df_team = df_team.append(pd.DataFrame(row['Team'],index = [index]))\n",
    "    index += 1\n",
    "    \n",
    "df_op = pd.DataFrame(columns=cols)\n",
    "index = 0\n",
    "\n",
    "for i in teams:\n",
    "    row = data.get(i)\n",
    "    df_op = df_op.append(pd.DataFrame(row['Opponent'],index = [index]))\n",
    "    index += 1"
   ]
  },
  {
   "cell_type": "code",
   "execution_count": 264,
   "metadata": {},
   "outputs": [],
   "source": [
    "df_team['Team'] = pd.DataFrame(teams)\n",
    "df_op['Team'] = pd.DataFrame(teams)"
   ]
  },
  {
   "cell_type": "code",
   "execution_count": 265,
   "metadata": {},
   "outputs": [],
   "source": [
    "df_team.to_csv(r'Team_stats.csv')\n",
    "df_op.to_csv(r'Opp_stats.csv')"
   ]
  },
  {
   "cell_type": "code",
   "execution_count": 266,
   "metadata": {},
   "outputs": [
    {
     "data": {
      "text/html": [
       "<div>\n",
       "<style scoped>\n",
       "    .dataframe tbody tr th:only-of-type {\n",
       "        vertical-align: middle;\n",
       "    }\n",
       "\n",
       "    .dataframe tbody tr th {\n",
       "        vertical-align: top;\n",
       "    }\n",
       "\n",
       "    .dataframe thead th {\n",
       "        text-align: right;\n",
       "    }\n",
       "</style>\n",
       "<table border=\"1\" class=\"dataframe\">\n",
       "  <thead>\n",
       "    <tr style=\"text-align: right;\">\n",
       "      <th></th>\n",
       "      <th>team1</th>\n",
       "      <th>team2</th>\n",
       "      <th>round</th>\n",
       "      <th>winner</th>\n",
       "    </tr>\n",
       "  </thead>\n",
       "  <tbody>\n",
       "    <tr>\n",
       "      <th>0</th>\n",
       "      <td>Belmont</td>\n",
       "      <td>Temple</td>\n",
       "      <td>1</td>\n",
       "      <td>1</td>\n",
       "    </tr>\n",
       "    <tr>\n",
       "      <th>1</th>\n",
       "      <td>North Dakota State</td>\n",
       "      <td>North Carolina Central</td>\n",
       "      <td>1</td>\n",
       "      <td>1</td>\n",
       "    </tr>\n",
       "    <tr>\n",
       "      <th>2</th>\n",
       "      <td>Arizona State</td>\n",
       "      <td>St. John's (NY)</td>\n",
       "      <td>1</td>\n",
       "      <td>1</td>\n",
       "    </tr>\n",
       "    <tr>\n",
       "      <th>3</th>\n",
       "      <td>Prairie View</td>\n",
       "      <td>Fairleigh Dickinson</td>\n",
       "      <td>1</td>\n",
       "      <td>2</td>\n",
       "    </tr>\n",
       "    <tr>\n",
       "      <th>4</th>\n",
       "      <td>Duke</td>\n",
       "      <td>North Dakota State</td>\n",
       "      <td>2</td>\n",
       "      <td>1</td>\n",
       "    </tr>\n",
       "  </tbody>\n",
       "</table>\n",
       "</div>"
      ],
      "text/plain": [
       "                team1                   team2  round  winner\n",
       "0             Belmont                  Temple      1       1\n",
       "1  North Dakota State  North Carolina Central      1       1\n",
       "2       Arizona State         St. John's (NY)      1       1\n",
       "3        Prairie View     Fairleigh Dickinson      1       2\n",
       "4                Duke      North Dakota State      2       1"
      ]
     },
     "execution_count": 266,
     "metadata": {},
     "output_type": "execute_result"
    }
   ],
   "source": [
    "games = pd.read_csv('games.csv')\n",
    "games.head()"
   ]
  },
  {
   "cell_type": "code",
   "execution_count": 267,
   "metadata": {},
   "outputs": [],
   "source": [
    "cols2 = list(cols)\n",
    "cols2.append('Team')\n",
    "full = pd.DataFrame()\n",
    "\n",
    "team1_team = pd.DataFrame()\n",
    "team2_team = pd.DataFrame()\n",
    "team1_opp = pd.DataFrame()\n",
    "team2_opp = pd.DataFrame()\n",
    "\n",
    "index = 0\n",
    "for i in games.T:\n",
    "    \n",
    "    team1 = games['team1'][i]\n",
    "    team2 = games['team2'][i]\n",
    "    \n",
    "    indext1 = df_team.index[df_team['Team'] == team1]\n",
    "    indext2 = df_team.index[df_team['Team'] == team2]\n",
    "    indexo1 = df_team.index[df_op['Team'] == team1]\n",
    "    indexo2 = df_team.index[df_op['Team'] == team2]\n",
    "    team1_team = team1_team.append(df_team.iloc[indext1].add_prefix('t1t_'),ignore_index = True)\n",
    "    team2_team = team2_team.append(df_op.iloc[indext2].add_prefix('t2t_'),ignore_index=True)\n",
    "    team1_opp = team1_opp.append(df_team.iloc[indexo1].add_prefix('t1o_'),ignore_index = True)\n",
    "    team2_opp = team2_opp.append(df_op.iloc[indexo2].add_prefix('t2o_'),ignore_index=True)\n",
    "    \n",
    "full = pd.concat([games, team1_team,team1_opp,team2_team,team2_opp], axis = 1)\n",
    "\n",
    "full = full.drop(columns = ['t1t_Team', 't1o_Team', 't2t_Team', 't2o_Team'])"
   ]
  },
  {
   "cell_type": "code",
   "execution_count": 268,
   "metadata": {},
   "outputs": [],
   "source": [
    "full['round'] = full['round'].astype('category')\n",
    "full['winner'] = full['winner'].astype('category')"
   ]
  },
  {
   "cell_type": "code",
   "execution_count": 269,
   "metadata": {},
   "outputs": [],
   "source": [
    "full.to_csv(r'Full_stats.csv')"
   ]
  },
  {
   "cell_type": "code",
   "execution_count": 270,
   "metadata": {},
   "outputs": [
    {
     "name": "stdout",
     "output_type": "stream",
     "text": [
      "1.0\n"
     ]
    },
    {
     "name": "stderr",
     "output_type": "stream",
     "text": [
      "C:\\Users\\ande5\\Anaconda3\\lib\\site-packages\\sklearn\\linear_model\\logistic.py:432: FutureWarning: Default solver will be changed to 'lbfgs' in 0.22. Specify a solver to silence this warning.\n",
      "  FutureWarning)\n"
     ]
    }
   ],
   "source": [
    "from sklearn.linear_model import LogisticRegression\n",
    "from sklearn import metrics\n",
    "\n",
    "y = full['winner']\n",
    "X = full.loc[:, 't1t_g':].astype('float')\n",
    "\n",
    "model = LogisticRegression()\n",
    "model.fit(X, y)\n",
    "\n",
    "score = model.score(X,y)\n",
    "print(score)"
   ]
  },
  {
   "cell_type": "code",
   "execution_count": 271,
   "metadata": {},
   "outputs": [],
   "source": [
    "predictions = model.predict(X)"
   ]
  },
  {
   "cell_type": "code",
   "execution_count": 272,
   "metadata": {},
   "outputs": [
    {
     "name": "stdout",
     "output_type": "stream",
     "text": [
      "[[38  0]\n",
      " [ 0 29]]\n"
     ]
    }
   ],
   "source": [
    "cm = metrics.confusion_matrix(y, predictions)\n",
    "print(cm)"
   ]
  },
  {
   "cell_type": "code",
   "execution_count": 242,
   "metadata": {},
   "outputs": [],
   "source": [
    "intercept = pd.DataFrame(model.intercept_, columns = ['intercept'])"
   ]
  },
  {
   "cell_type": "code",
   "execution_count": 273,
   "metadata": {},
   "outputs": [],
   "source": [
    "coefs = model.coef_[0]"
   ]
  },
  {
   "cell_type": "code",
   "execution_count": 275,
   "metadata": {},
   "outputs": [],
   "source": [
    "results = pd.DataFrame(coefs).T"
   ]
  },
  {
   "cell_type": "code",
   "execution_count": 276,
   "metadata": {},
   "outputs": [],
   "source": [
    "col_rename_dict = {i:j for i,j in zip(results.columns,X.columns)}"
   ]
  },
  {
   "cell_type": "code",
   "execution_count": 277,
   "metadata": {},
   "outputs": [],
   "source": [
    "results = results.rename(columns = col_rename_dict)"
   ]
  },
  {
   "cell_type": "code",
   "execution_count": 278,
   "metadata": {},
   "outputs": [],
   "source": [
    "results = pd.concat([intercept, results], axis = 1)"
   ]
  },
  {
   "cell_type": "code",
   "execution_count": 280,
   "metadata": {},
   "outputs": [],
   "source": [
    "results.to_csv(r'Results.csv')"
   ]
  }
 ],
 "metadata": {
  "kernelspec": {
   "display_name": "Python 3",
   "language": "python",
   "name": "python3"
  },
  "language_info": {
   "codemirror_mode": {
    "name": "ipython",
    "version": 3
   },
   "file_extension": ".py",
   "mimetype": "text/x-python",
   "name": "python",
   "nbconvert_exporter": "python",
   "pygments_lexer": "ipython3",
   "version": "3.7.1"
  }
 },
 "nbformat": 4,
 "nbformat_minor": 2
}
